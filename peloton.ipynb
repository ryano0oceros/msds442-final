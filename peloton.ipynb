{
 "cells": [
  {
   "cell_type": "markdown",
   "metadata": {},
   "source": [
    "# Peloton AI Agents - Phase 2 Implementation"
   ]
  },
  {
   "cell_type": "markdown",
   "metadata": {},
   "source": [
    "## 1. Environment Setup & Dependencies"
   ]
  },
  {
   "cell_type": "code",
   "execution_count": null,
   "metadata": {},
   "outputs": [],
   "source": [
    "# Import required libraries\n",
    "import os\n",
    "import json\n",
    "import pandas as pd\n",
    "import numpy as np\n",
    "from datetime import datetime\n",
    "from IPython.display import Markdown, display\n",
    "\n",
    "# LangChain and LangGraph imports\n",
    "from langchain.chat_models import ChatOpenAI\n",
    "from langchain.memory import ConversationBufferMemory\n",
    "from langgraph.graph import StateGraph"
   ]
  },
  {
   "cell_type": "markdown",
   "metadata": {},
   "source": [
    "## 2. Data Loading & Preprocessing (Requirement 1)"
   ]
  },
  {
   "cell_type": "code",
   "execution_count": 3,
   "metadata": {},
   "outputs": [
    {
     "name": "stdout",
     "output_type": "stream",
     "text": [
      "## Training Data and Files Used\n",
      "- mock_data.json: Contains the following datasets:\n",
      "  - marketing_data: Synthetic campaign summaries\n",
      "  - fitness_data: Simulated user cycling performance\n",
      "  - security_logs: Simulated access logs\n",
      "  - order_records: Simulated product order logs\n"
     ]
    }
   ],
   "source": [
    "# Describe datasets\n",
    "print(\"## Training Data and Files Used\")\n",
    "print(\"- mock_data.json: Contains the following datasets:\")\n",
    "print(\"  - marketing_data: Synthetic campaign summaries\")\n",
    "print(\"  - fitness_data: Simulated user cycling performance\")\n",
    "print(\"  - security_logs: Simulated access logs\")\n",
    "print(\"  - order_records: Simulated product order logs\")\n",
    "\n",
    "# Load synthetic data\n",
    "with open('mock_data.json', 'r') as f:\n",
    "    data = json.load(f)\n",
    "marketing_data = pd.DataFrame(data['marketing_data'])\n",
    "fitness_data = pd.DataFrame(data['fitness_data'])\n",
    "security_logs = pd.DataFrame(data['security_logs'])\n",
    "order_records = pd.DataFrame(data['order_records'])"
   ]
  },
  {
   "cell_type": "markdown",
   "metadata": {},
   "source": [
    "## 3. LangGraph Logical Architecture with Mermaid"
   ]
  },
  {
   "cell_type": "code",
   "execution_count": 4,
   "metadata": {},
   "outputs": [
    {
     "data": {
      "text/markdown": [
       "## Mermaid Diagram for Logical Architecture"
      ],
      "text/plain": [
       "<IPython.core.display.Markdown object>"
      ]
     },
     "metadata": {},
     "output_type": "display_data"
    },
    {
     "data": {
      "text/markdown": [
       "\n",
       "```mermaid\n",
       "graph TD\n",
       "    A[User Input] --> B[Router Agent]\n",
       "    B --> C[Business/Marketing Agent]\n",
       "    B --> D[Data Science Agent]\n",
       "    B --> E[Membership/Fraud Agent]\n",
       "    B --> F[Order/Shipping Agent]\n",
       "    B --> G[Product Recommendation Agent]\n",
       "    C --> H[Campaign Analysis Tool]\n",
       "    D --> I[Anomaly Detection Tool]\n",
       "    E --> J[Fraud Monitoring Tool]\n",
       "    F --> K[Tracking API Tool]\n",
       "    G --> L[Recommendation Engine]\n",
       "```\n"
      ],
      "text/plain": [
       "<IPython.core.display.Markdown object>"
      ]
     },
     "metadata": {},
     "output_type": "display_data"
    }
   ],
   "source": [
    "mermaid_code = '''\n",
    "```mermaid\n",
    "graph TD\n",
    "    A[User Input] --> B[Router Agent]\n",
    "    B --> C[Business/Marketing Agent]\n",
    "    B --> D[Data Science Agent]\n",
    "    B --> E[Membership/Fraud Agent]\n",
    "    B --> F[Order/Shipping Agent]\n",
    "    B --> G[Product Recommendation Agent]\n",
    "    C --> H[Campaign Analysis Tool]\n",
    "    D --> I[Anomaly Detection Tool]\n",
    "    E --> J[Fraud Monitoring Tool]\n",
    "    F --> K[Tracking API Tool]\n",
    "    G --> L[Recommendation Engine]\n",
    "```\n",
    "'''\n",
    "display(Markdown(\"## Mermaid Diagram for Logical Architecture\"))\n",
    "display(Markdown(mermaid_code))"
   ]
  },
  {
   "cell_type": "markdown",
   "metadata": {},
   "source": [
    "## 4. Script Template for All AI Agents"
   ]
  },
  {
   "cell_type": "code",
   "execution_count": 5,
   "metadata": {},
   "outputs": [],
   "source": [
    "class PelotonAgent:\n",
    "    def __init__(self, agent_type, tools):\n",
    "        self.agent_type = agent_type\n",
    "        self.tools = tools\n",
    "    def process_request(self, input_data):\n",
    "        print(f\"[{self.agent_type}] Processing request with tools: {self.tools}\")\n",
    "        return \"Request processed.\"\n",
    "\n",
    "# Instantiate agents\n",
    "marketing_agent = PelotonAgent(\"Business/Marketing Agent\", [\"Campaign Analysis Tool\"])\n",
    "data_science_agent = PelotonAgent(\"Data Science Agent\", [\"Anomaly Detection Tool\"])\n",
    "fraud_agent = PelotonAgent(\"Membership/Fraud Agent\", [\"Fraud Monitoring Tool\"])\n",
    "order_agent = PelotonAgent(\"Order/Shipping Agent\", [\"Tracking API Tool\"])\n",
    "product_rec_agent = PelotonAgent(\"Product Recommendation Agent\", [\"Recommendation Engine\"])"
   ]
  },
  {
   "cell_type": "markdown",
   "metadata": {},
   "source": [
    "## 5. Working Prototype: One User Story per Agent"
   ]
  },
  {
   "cell_type": "code",
   "execution_count": 6,
   "metadata": {},
   "outputs": [
    {
     "data": {
      "text/markdown": [
       "**Business/Marketing Agent User Story:** _Report ROI by segment for January campaign._"
      ],
      "text/plain": [
       "<IPython.core.display.Markdown object>"
      ]
     },
     "metadata": {},
     "output_type": "display_data"
    },
    {
     "name": "stdout",
     "output_type": "stream",
     "text": [
      "                 Impressions  Clicks   ROI\n",
      "Top Segment                               \n",
      "Lapsed Members         35500    5100   9.4\n",
      "Returning Users        42000    6800  11.2\n"
     ]
    },
    {
     "data": {
      "text/markdown": [
       "**Data Science Agent User Story:** _Spot anomalies in recent user fitness output._"
      ],
      "text/plain": [
       "<IPython.core.display.Markdown object>"
      ]
     },
     "metadata": {},
     "output_type": "display_data"
    },
    {
     "name": "stdout",
     "output_type": "stream",
     "text": [
      "Empty DataFrame\n",
      "Columns: [User, Date, Cadence, Resistance, Output]\n",
      "Index: []\n"
     ]
    },
    {
     "data": {
      "text/markdown": [
       "**Membership/Fraud Agent User Story:** _Alert user on suspicious login attempts._"
      ],
      "text/plain": [
       "<IPython.core.display.Markdown object>"
      ]
     },
     "metadata": {},
     "output_type": "display_data"
    },
    {
     "name": "stdout",
     "output_type": "stream",
     "text": [
      "       User            Timestamp     IP Location  Login Type\n",
      "1  user_003  2024-04-02 03:02:11  Moscow, Russia  Suspicious\n"
     ]
    },
    {
     "data": {
      "text/markdown": [
       "**Order/Shipping Agent User Story:** _Show order status for Peloton Bike._"
      ],
      "text/plain": [
       "<IPython.core.display.Markdown object>"
      ]
     },
     "metadata": {},
     "output_type": "display_data"
    },
    {
     "name": "stdout",
     "output_type": "stream",
     "text": [
      "   Order ID        Product Carrier         ETA      Status\n",
      "0  ORD-1001  Peloton Bike+   FedEx  2024-05-08  In Transit\n"
     ]
    },
    {
     "data": {
      "text/markdown": [
       "**Product Recommendation Agent User Story:** _Recommend cycling shoes for Bike owners._"
      ],
      "text/plain": [
       "<IPython.core.display.Markdown object>"
      ]
     },
     "metadata": {},
     "output_type": "display_data"
    },
    {
     "name": "stdout",
     "output_type": "stream",
     "text": [
      "Recommended: Cycling Shoes - Delta Compatible\n"
     ]
    }
   ],
   "source": [
    "def marketing_user_story():\n",
    "    display(Markdown(\"\"\"**Business/Marketing Agent User Story:** _Report ROI by segment for January campaign._\"\"\"))\n",
    "    result = marketing_data.groupby('Top Segment').agg({'Impressions':'sum','Clicks':'sum','ROI':'mean'})\n",
    "    print(result)\n",
    "\n",
    "def data_science_user_story():\n",
    "    display(Markdown(\"\"\"**Data Science Agent User Story:** _Spot anomalies in recent user fitness output._\"\"\"))\n",
    "    threshold = fitness_data['Output'].mean() + 2 * fitness_data['Output'].std()\n",
    "    anomalies = fitness_data[fitness_data['Output'] > threshold]\n",
    "    print(anomalies)\n",
    "\n",
    "def fraud_user_story():\n",
    "    display(Markdown(\"\"\"**Membership/Fraud Agent User Story:** _Alert user on suspicious login attempts._\"\"\"))\n",
    "    suspicious = security_logs[security_logs['Login Type'] == 'Suspicious']\n",
    "    print(suspicious)\n",
    "\n",
    "def order_user_story():\n",
    "    display(Markdown(\"\"\"**Order/Shipping Agent User Story:** _Show order status for Peloton Bike._\"\"\"))\n",
    "    orders = order_records[order_records['Product'].str.contains('Bike')]\n",
    "    print(orders)\n",
    "\n",
    "def product_rec_user_story():\n",
    "    display(Markdown(\"\"\"**Product Recommendation Agent User Story:** _Recommend cycling shoes for Bike owners._\"\"\"))\n",
    "    if any('Bike' in product for product in order_records['Product']):\n",
    "        print(\"Recommended: Cycling Shoes - Delta Compatible\")\n",
    "    else:\n",
    "        print(\"Recommended: Peloton Heart Rate Monitor\")\n",
    "\n",
    "# Execute all user stories\n",
    "marketing_user_story()\n",
    "data_science_user_story()\n",
    "fraud_user_story()\n",
    "order_user_story()\n",
    "product_rec_user_story()"
   ]
  }
 ],
 "metadata": {
  "kernelspec": {
   "display_name": "venv",
   "language": "python",
   "name": "python3"
  },
  "language_info": {
   "codemirror_mode": {
    "name": "ipython",
    "version": 3
   },
   "file_extension": ".py",
   "mimetype": "text/x-python",
   "name": "python",
   "nbconvert_exporter": "python",
   "pygments_lexer": "ipython3",
   "version": "3.10.17"
  }
 },
 "nbformat": 4,
 "nbformat_minor": 2
}
